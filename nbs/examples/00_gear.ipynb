{
 "cells": [
  {
   "cell_type": "code",
   "execution_count": null,
   "id": "f12cbeda-0024-41d4-8764-ca473bfbb486",
   "metadata": {},
   "outputs": [],
   "source": [
    "from cadlab.scad import *\n",
    "from solid2 import *"
   ]
  },
  {
   "cell_type": "markdown",
   "id": "bd84cd0e-28d3-447d-b8e6-0e4d67555d0e",
   "metadata": {},
   "source": [
    "A gear is a mechanical device that can be used to transmit rotational motion.\n",
    "It has a flat disk shape, with teeth on the edges and a hole in the center.\n",
    "\n",
    "The hole is there to place the gear on an axle on which it can freely rotate and the teeth are there to transmit rotational motion to other gears or other mechanical components that also have teeth that are\n",
    "spaced the same way.\n",
    "\n",
    "Note that the center does not need to be circular. For example, if you wish to attach a leaver, you can\n",
    "use a square hole in order to transmit angular momentum from the leaver to the cog.\n",
    "\n",
    "Other things are possible too. For example, you might be able to connect the cog directly to a spiraling\n",
    "spring in order to act as an energy storage device."
   ]
  },
  {
   "cell_type": "markdown",
   "id": "3596b8ac-20e1-4c25-bffa-9584829d8c6f",
   "metadata": {},
   "source": [
    "We start by creating the overall shape."
   ]
  },
  {
   "cell_type": "code",
   "execution_count": null,
   "id": "9150a41a-a90b-401d-9123-2be1ac07d2a0",
   "metadata": {},
   "outputs": [
    {
     "data": {
      "image/png": "[encoded data removed]",
      "text/plain": [
       "cylinder(h = 20, r = 80);"
      ]
     },
     "execution_count": null,
     "metadata": {},
     "output_type": "execute_result"
    }
   ],
   "source": [
    "cylinder(h=20,r=80)"
   ]
  },
  {
   "cell_type": "code",
   "execution_count": null,
   "id": "1adc32bf-996d-40e0-94d7-5721015f337a",
   "metadata": {},
   "outputs": [],
   "source": []
  }
 ],
 "metadata": {
  "kernelspec": {
   "display_name": "python3",
   "language": "python",
   "name": "python3"
  }
 },
 "nbformat": 4,
 "nbformat_minor": 5
}
